{
 "cells": [
  {
   "cell_type": "markdown",
   "metadata": {},
   "source": [
    "# Работа с базами данных"
   ]
  },
  {
   "cell_type": "markdown",
   "metadata": {},
   "source": [
    "Материалы:\n",
    "* Макрушин С.В. Лекция 6: Работа с базами данных\n",
    "* https://sqliteonline.com/\n",
    "* https://docs.python.org/3/library/sqlite3.html\n",
    "* https://www.geeksforgeeks.org/sql-join-set-1-inner-left-right-and-full-joins/\n",
    "* https://www.datacamp.com/community/tutorials/group-by-having-clause-sql"
   ]
  },
  {
   "cell_type": "code",
   "execution_count": 1,
   "metadata": {},
   "outputs": [],
   "source": [
    "import  sqlite3"
   ]
  },
  {
   "cell_type": "code",
   "execution_count": 2,
   "metadata": {},
   "outputs": [],
   "source": [
    "sql  = \"\"\"\n",
    "CREATE TABLE ALBUM\n",
    "(\n",
    "    ALBUM_ID INTEGER PRIMARY KEY AUTOINCREMENT NOT NULL, \n",
    "    TITLE VARCHAR(200)  NOT NULL,\n",
    "    ARTIST_ID INTEGER  NOT NULL,\n",
    "    FOREIGN KEY (ARTIST_ID) REFERENCES ARTIST (ARTIST_ID) \n",
    ");\n",
    "\n",
    "CREATE TABLE ARTIST\n",
    "(\n",
    "    ARTIST_ID INTEGER PRIMARY KEY AUTOINCREMENT NOT NULL,\n",
    "    NAME VARCHAR(200),\n",
    "    COMMENT VARCHAR(400)\n",
    ");\n",
    "\n",
    "CREATE TABLE GENRE\n",
    "(\n",
    "    GENRE_ID INTEGER PRIMARY KEY AUTOINCREMENT NOT NULL,\n",
    "    NAME VARCHAR(200)\n",
    ");\n",
    "\n",
    "CREATE TABLE PLAY_LIST\n",
    "(\n",
    "    PLAY_LIST_ID INTEGER PRIMARY KEY AUTOINCREMENT NOT NULL,\n",
    "    NAME VARCHAR(200)\n",
    ");\n",
    "\n",
    "CREATE TABLE PLAY_LIST_TRACK\n",
    "(\n",
    "    PLAY_LIST_ID INTEGER  NOT NULL,\n",
    "    TRACK_ID INTEGER  NOT NULL,\n",
    "    CONSTRAINT PLAY_LIST_TRACK PRIMARY KEY  (PLAY_LIST_ID, TRACK_ID),\n",
    "    FOREIGN KEY (PLAY_LIST_ID) REFERENCES PLAY_LIST (PLAY_LIST_ID),\n",
    "    FOREIGN KEY (TRACK_ID) REFERENCES TRACK (TRACK_ID) \n",
    ");\n",
    "\n",
    "CREATE TABLE TRACK\n",
    "(\n",
    "    TRACK_ID INTEGER PRIMARY KEY AUTOINCREMENT NOT NULL,\n",
    "    NAME VARCHAR(200)  NOT NULL,\n",
    "    ALBUM_ID INTEGER,\n",
    "    MEDIA_TYPE_ID INTEGER  NOT NULL,\n",
    "    GENRE_ID INTEGER,\n",
    "    COMPOSER VARCHAR(200),\n",
    "    MILLISECONDS INTEGER  NOT NULL,\n",
    "    FOREIGN KEY (ALBUM_ID) REFERENCES ALBUM (ALBUM_ID),\n",
    "    FOREIGN KEY (GENRE_ID) REFERENCES GENRE (GENRE_ID)\n",
    ");\"\"\" "
   ]
  },
  {
   "cell_type": "markdown",
   "metadata": {},
   "source": [
    "## Задачи для совместного разбора"
   ]
  },
  {
   "cell_type": "markdown",
   "metadata": {},
   "source": [
    "1. Работая с базой данных `Chinook_Sqlite.sqlite`, найдите и выведите на экран имена и фамилии всех заказчиков из Канады"
   ]
  },
  {
   "cell_type": "code",
   "execution_count": 3,
   "metadata": {},
   "outputs": [
    {
     "name": "stdout",
     "output_type": "stream",
     "text": [
      "[('François', 'Tremblay'), ('Mark', 'Philips'), ('Jennifer', 'Peterson'), ('Robert', 'Brown'), ('Edward', 'Francis'), ('Martha', 'Silk'), ('Aaron', 'Mitchell'), ('Ellie', 'Sullivan')]\n"
     ]
    }
   ],
   "source": [
    "con = sqlite3.connect('Chinook_Sqlite.sqlite')\n",
    "cur = con.cursor()\n",
    "\n",
    "cur.execute('''\n",
    "SELECT firstname, lastname\n",
    "FROM Customer\n",
    "WHERE country = 'Canada'\n",
    "''')\n",
    "\n",
    "res = cur.fetchall()\n",
    "print(res)\n",
    "\n",
    "cur.close()\n",
    "con.close()"
   ]
  },
  {
   "cell_type": "markdown",
   "metadata": {},
   "source": [
    "2. Найти и вывести на экран названия всех альбомов группы Accept"
   ]
  },
  {
   "cell_type": "code",
   "execution_count": 4,
   "metadata": {},
   "outputs": [
    {
     "name": "stdout",
     "output_type": "stream",
     "text": [
      "[('Accept', 'Balls to the Wall'), ('Accept', 'Restless and Wild')]\n"
     ]
    }
   ],
   "source": [
    "con = sqlite3.connect('Chinook_Sqlite.sqlite')\n",
    "cur = con.cursor()\n",
    "\n",
    "cur.execute('''\n",
    "SELECT Artist.name, Album.title\n",
    "FROM Artist, Album\n",
    "WHERE  Artist.artistid = Album.artistid AND Artist.name = 'Accept'\n",
    "''')\n",
    "\n",
    "print(cur.fetchall())\n",
    "cur.close()\n",
    "con.close()"
   ]
  },
  {
   "cell_type": "markdown",
   "metadata": {},
   "source": [
    "3. Создайте базу данных с названием вашей группы. В этой базе данных создайте таблицу Student, содержащую 2 столбца: id и name. Добавьте в таблицу Student информацию о студентах, сидящих с вами по соседству."
   ]
  },
  {
   "cell_type": "code",
   "execution_count": 6,
   "metadata": {},
   "outputs": [],
   "source": [
    "con = sqlite3.connect('PM19-4.sqlite')\n",
    "cur = con.cursor()\n",
    "\n",
    "cur.execute('''\n",
    "CREATE TABLE Student194\n",
    "(\n",
    "    ID INTEGER,\n",
    "    NAME VARCHAR(50)\n",
    ")\n",
    "''')\n",
    "\n",
    "cur.execute('''\n",
    "INSERT INTO Student194 (ID, NAME)\n",
    "VALUES (1, 'Dany'),(3, 'Liz')\n",
    "''')\n",
    "\n",
    "con.commit()\n",
    "\n",
    "cur.execute('''\n",
    "SELECT * FROM Student194\n",
    "''')\n",
    "res = cur.fetchall()\n",
    "\n",
    "cur.close()\n",
    "cur.close()\n",
    "con.close()"
   ]
  },
  {
   "cell_type": "code",
   "execution_count": 7,
   "metadata": {},
   "outputs": [
    {
     "name": "stdout",
     "output_type": "stream",
     "text": [
      "[(1, 'Dany'), (3, 'Liz')]\n"
     ]
    }
   ],
   "source": [
    "print(res)"
   ]
  },
  {
   "cell_type": "markdown",
   "metadata": {},
   "source": [
    "## Лабораторная работа 6"
   ]
  },
  {
   "cell_type": "markdown",
   "metadata": {},
   "source": [
    "1. Создайте файл базы данных c названием `recipes.db`. Создайте объект-курсор. "
   ]
  },
  {
   "cell_type": "code",
   "execution_count": 8,
   "metadata": {},
   "outputs": [],
   "source": [
    "con = sqlite3.connect('recipes.db')\n",
    "cur = con.cursor()"
   ]
  },
  {
   "cell_type": "markdown",
   "metadata": {},
   "source": [
    "2. Напишите и выполните SQL-запрос для создания таблицы рецептов `Recipe`. Таблица должна содержать следующие поля:\n",
    "`id`, `name`, `minutes`, `submitted`, `description`, `n_ingredients`. Определитесь с типами и составом ключевых полей."
   ]
  },
  {
   "cell_type": "code",
   "execution_count": 9,
   "metadata": {},
   "outputs": [],
   "source": [
    "con = sqlite3.connect('recipes.db')\n",
    "cur = con.cursor()\n",
    "\n",
    "cur.execute('''\n",
    "CREATE TABLE Recipe(\n",
    "    ID INTEGER, \n",
    "    NAME VARCHAR(200) NOT NULL,\n",
    "    MINUTES INTEGER  NOT NULL,\n",
    "    SUBMITTED TEXT,\n",
    "    DESCRIPTION VARCHAR(200) NOT NULL,\n",
    "    N_INGREDIENTS INTEGER  NOT NULL\n",
    ")\n",
    "''')\n",
    "\n",
    "con.commit()\n",
    "\n",
    "cur.close()\n",
    "con.close()"
   ]
  },
  {
   "cell_type": "markdown",
   "metadata": {},
   "source": [
    "3. Напишите и выполните SQL-запрос для создания таблицы отзывов `Review`. Таблица должна содержать следующие поля:\n",
    "`id`, `user_id`, `recipe_id`, `date`, `rating`, `review`. Определитесь с типами полей, набором ключевых полей. При помощи внешнего ключа соедините две таблицы."
   ]
  },
  {
   "cell_type": "code",
   "execution_count": 10,
   "metadata": {},
   "outputs": [],
   "source": [
    "con = sqlite3.connect('recipes.db')\n",
    "cur = con.cursor()\n",
    "\n",
    "cur.execute('''\n",
    "CREATE TABLE Review\n",
    "(\n",
    "    ID INTEGER PRIMARY KEY AUTOINCREMENT NOT NULL,\n",
    "    USER_ID INTEGER  NOT NULL,\n",
    "    RECIPE_ID INTEGER  NOT NULL,\n",
    "    DATE TEXT,\n",
    "    RATING VARCHAR(300),\n",
    "    REVIEW VARCHAR(300),\n",
    "    FOREIGN KEY (RECIPE_ID) REFERENCES RECIPE (ID)\n",
    "    \n",
    ")\n",
    "''')\n",
    "\n",
    "con.commit()\n",
    "\n",
    "cur.close()\n",
    "con.close()"
   ]
  },
  {
   "cell_type": "markdown",
   "metadata": {},
   "source": [
    "4. Загрузите данные из файлов `reviews_sample.csv` (__ЛР2__) и `recipes_sample_with_tags_ingredients.csv` (__ЛР5__) в созданные таблицы"
   ]
  },
  {
   "cell_type": "code",
   "execution_count": 11,
   "metadata": {},
   "outputs": [],
   "source": [
    "import pandas as pd\n",
    "import csv"
   ]
  },
  {
   "cell_type": "code",
   "execution_count": 12,
   "metadata": {},
   "outputs": [],
   "source": [
    "rev = pd.read_csv('reviews_sample.csv') \n",
    "to_db_rev = rev.values.tolist()"
   ]
  },
  {
   "cell_type": "code",
   "execution_count": 13,
   "metadata": {},
   "outputs": [],
   "source": [
    "with open('recipes_sample_with_tags_ingredients.csv','r', encoding=\"utf8\") as f:\n",
    "    dr_rec = csv.DictReader(f)\n",
    "    to_db_rec = [(i['id'], i['name'], i['minutes'], i['submitted'], i['description'], i['n_ingredients']) for i in dr_rec]"
   ]
  },
  {
   "cell_type": "code",
   "execution_count": 14,
   "metadata": {},
   "outputs": [],
   "source": [
    "con = sqlite3.connect('recipes.db')\n",
    "cur = con.cursor()\n",
    "\n",
    "cur.executemany('''\n",
    "INSERT INTO Recipe(id, name, minutes, submitted, description, n_ingredients) VALUES (?, ?, ?, ?, ?, ?)''', to_db_rec)\n",
    "\n",
    "con.commit()\n",
    "\n",
    "cur.executemany('''\n",
    "INSERT INTO Review(id, user_id, recipe_id, date, rating, review) VALUES (?, ?, ?, ?, ?, ?)''', to_db_rev)\n",
    "\n",
    "con.commit()\n",
    "\n",
    "cur.close()\n",
    "con.close()"
   ]
  },
  {
   "cell_type": "markdown",
   "metadata": {},
   "source": [
    "5. Найдите все рецепты, для выполнения которых нужно ровно 10 ингредиентов. Выведите на экран первые 5 из найденных рецептов."
   ]
  },
  {
   "cell_type": "code",
   "execution_count": 15,
   "metadata": {},
   "outputs": [
    {
     "name": "stdout",
     "output_type": "stream",
     "text": [
      "[('blepandekager   danish   apple pancakes',), ('kelly s creamy cheddar pea salad',), ('middle eastern   twice baked potatoes',), ('secret ingredient  bbq meatloaf',), ('don t knock it until you try it  beet cake',)]\n"
     ]
    }
   ],
   "source": [
    "con = sqlite3.connect('recipes.db')\n",
    "cur = con.cursor()\n",
    "\n",
    "cur.execute('''\n",
    "SELECT name\n",
    "FROM Recipe\n",
    "WHERE n_ingredients = 10\n",
    "''')\n",
    "\n",
    "res = cur.fetchall()\n",
    "print(res[:5])\n",
    "\n",
    "cur.close()\n",
    "con.close()"
   ]
  },
  {
   "cell_type": "markdown",
   "metadata": {},
   "source": [
    "6. Найдите название рецепта, для выполнения которого требуется больше всего времени."
   ]
  },
  {
   "cell_type": "code",
   "execution_count": 16,
   "metadata": {},
   "outputs": [
    {
     "name": "stdout",
     "output_type": "stream",
     "text": [
      "('blueberry liqueur',)\n"
     ]
    }
   ],
   "source": [
    "con = sqlite3.connect('recipes.db')\n",
    "cur = con.cursor()\n",
    "\n",
    "cur.execute('''\n",
    "SELECT name\n",
    "FROM Recipe\n",
    "WHERE minutes = (SELECT MAX(minutes) FROM Recipe)\n",
    "''')\n",
    "\n",
    "res = cur.fetchall()\n",
    "print(res[0])\n",
    "\n",
    "cur.close()\n",
    "con.close()"
   ]
  },
  {
   "cell_type": "markdown",
   "metadata": {},
   "source": [
    "7. Запросите у пользователя id рецепта и верните информацию об этом рецепте. Если рецепт отсуствует, выведите соответствующее сообщение."
   ]
  },
  {
   "cell_type": "code",
   "execution_count": 20,
   "metadata": {},
   "outputs": [
    {
     "name": "stdout",
     "output_type": "stream",
     "text": [
      "Введите id рецепта:302399\n",
      "[(302399, 'quick biscuit bread', 20, '2008-05-06', 'this is a wonderful quick bread to make as an acompaniment to most any dish. it is very versatile and delicious 1 :-)', 5)]\n"
     ]
    }
   ],
   "source": [
    "id_ = int(input(\"Введите id рецепта:\"))\n",
    "rec = pd.read_csv('recipes_sample_with_tags_ingredients.csv', sep = ',', header = 0, parse_dates = [7])\n",
    "if id_ in rec['id'].tolist():\n",
    "    con = sqlite3.connect('recipes.db')\n",
    "    cur = con.cursor()\n",
    "    \n",
    "    cur.execute('''\n",
    "    SELECT *\n",
    "    FROM Recipe\n",
    "    WHERE id = ?\n",
    "    ''', (id_ ,))\n",
    "    \n",
    "    res = cur.fetchall()\n",
    "    print(res)\n",
    "    \n",
    "    cur.close()\n",
    "    con.close()\n",
    "else:\n",
    "    print('Такого id не существует')\n",
    "    "
   ]
  },
  {
   "cell_type": "markdown",
   "metadata": {},
   "source": [
    "8. Найдите кол-во отзывов с рейтингом 5."
   ]
  },
  {
   "cell_type": "code",
   "execution_count": 18,
   "metadata": {},
   "outputs": [
    {
     "name": "stdout",
     "output_type": "stream",
     "text": [
      "(91361,)\n"
     ]
    }
   ],
   "source": [
    "con = sqlite3.connect('recipes.db')\n",
    "cur = con.cursor()\n",
    "\n",
    "cur.execute('''\n",
    "SELECT COUNT(id)\n",
    "FROM Review\n",
    "WHERE rating = 5\n",
    "''')\n",
    "\n",
    "res = cur.fetchall()\n",
    "print(res[0])\n",
    "\n",
    "cur.close()\n",
    "con.close()"
   ]
  },
  {
   "cell_type": "markdown",
   "metadata": {},
   "source": [
    "9. Найдите кол-во уникальных рецептов, не имеющих отзывов с рейтингом, меньше 4. "
   ]
  },
  {
   "cell_type": "code",
   "execution_count": 19,
   "metadata": {},
   "outputs": [
    {
     "name": "stdout",
     "output_type": "stream",
     "text": [
      "(7634,)\n"
     ]
    }
   ],
   "source": [
    "con = sqlite3.connect('recipes.db')\n",
    "cur = con.cursor()\n",
    "\n",
    "cur.execute('''\n",
    "SELECT COUNT(DISTINCT recipe_id)\n",
    "FROM Review\n",
    "WHERE rating < 4\n",
    "''')\n",
    "\n",
    "res = cur.fetchall()\n",
    "print(res[0])\n",
    "\n",
    "cur.close()\n",
    "con.close()"
   ]
  },
  {
   "cell_type": "markdown",
   "metadata": {},
   "source": [
    "10. Найдите кол-во рецептов, опубликованных в 2010 году и имеющих длину не менее 15 минут."
   ]
  },
  {
   "cell_type": "code",
   "execution_count": 21,
   "metadata": {},
   "outputs": [
    {
     "name": "stdout",
     "output_type": "stream",
     "text": [
      "[(1319,)]\n"
     ]
    }
   ],
   "source": [
    "con = sqlite3.connect('recipes.db')\n",
    "cur = con.cursor()\n",
    "\n",
    "cur.execute('''\n",
    "SELECT COUNT(submitted)\n",
    "FROM Recipe\n",
    "WHERE (minutes >= 15) AND (submitted < '2011-01-01') AND (submitted > '2009-12-31')\n",
    "''')\n",
    "\n",
    "res = cur.fetchall()\n",
    "print(res)\n",
    "\n",
    "cur.close()\n",
    "con.close()"
   ]
  },
  {
   "cell_type": "markdown",
   "metadata": {},
   "source": [
    "11. Выберите id рецепта, название рецепта, id пользователя, оставившего отзыв, дату отзыва и рейтинг для тех рецептов, которые имеют не менее 3 ингредиентов. Отсортируйте результат по id рецепта."
   ]
  },
  {
   "cell_type": "code",
   "execution_count": 22,
   "metadata": {},
   "outputs": [],
   "source": [
    "#Recipe(id, name, minutes, submitted, description, n_ingredients)\n",
    "#Review(id, user_id, recipe_id, date, rating, review)"
   ]
  },
  {
   "cell_type": "code",
   "execution_count": 23,
   "metadata": {},
   "outputs": [
    {
     "name": "stderr",
     "output_type": "stream",
     "text": [
      "IOPub data rate exceeded.\n",
      "The notebook server will temporarily stop sending output\n",
      "to the client in order to avoid crashing it.\n",
      "To change this limit, set the config variable\n",
      "`--NotebookApp.iopub_data_rate_limit`.\n",
      "\n",
      "Current values:\n",
      "NotebookApp.iopub_data_rate_limit=1000000.0 (bytes/sec)\n",
      "NotebookApp.rate_limit_window=3.0 (secs)\n",
      "\n"
     ]
    }
   ],
   "source": [
    "con = sqlite3.connect('recipes.db')\n",
    "cur = con.cursor()\n",
    "\n",
    "cur.execute('''\n",
    "SELECT rec.id, rec.name, rev.user_id, rev.date, rev.rating \n",
    "FROM Recipe rec, Review rev\n",
    "WHERE rec.id = rev.recipe_id AND rec.n_ingredients >= 3\n",
    "ORDER BY recipe_id\n",
    "''')\n",
    "\n",
    "res = cur.fetchall()\n",
    "print(res)\n",
    "\n",
    "cur.close()\n",
    "con.close()"
   ]
  },
  {
   "cell_type": "code",
   "execution_count": null,
   "metadata": {},
   "outputs": [],
   "source": []
  }
 ],
 "metadata": {
  "kernelspec": {
   "display_name": "Python 3",
   "language": "python",
   "name": "python3"
  },
  "language_info": {
   "codemirror_mode": {
    "name": "ipython",
    "version": 3
   },
   "file_extension": ".py",
   "mimetype": "text/x-python",
   "name": "python",
   "nbconvert_exporter": "python",
   "pygments_lexer": "ipython3",
   "version": "3.8.8"
  }
 },
 "nbformat": 4,
 "nbformat_minor": 4
}
