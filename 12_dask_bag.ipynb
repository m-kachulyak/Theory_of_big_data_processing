{
 "cells": [
  {
   "cell_type": "markdown",
   "metadata": {},
   "source": [
    "# Dask Bag"
   ]
  },
  {
   "cell_type": "markdown",
   "metadata": {},
   "source": [
    "Материалы: \n",
    "* Макрушин С.В. Лекция 12: Map-Reduce\n",
    "* https://docs.dask.org/en/latest/bag.html\n",
    "* Jesse C. Daniel. Data Science with Python and Dask. "
   ]
  },
  {
   "cell_type": "markdown",
   "metadata": {},
   "source": [
    "## Задачи для совместного разбора"
   ]
  },
  {
   "cell_type": "markdown",
   "metadata": {},
   "source": [
    "1. Считайте файл `Dostoevskiy Fedor. Igrok - BooksCafe.Net.txt` и разбейте на предложения. Подсчитайте длину (в кол-ве символов) каждого предложения."
   ]
  },
  {
   "cell_type": "code",
   "execution_count": 157,
   "metadata": {},
   "outputs": [],
   "source": [
    "from nltk import sent_tokenize"
   ]
  },
  {
   "cell_type": "code",
   "execution_count": 158,
   "metadata": {},
   "outputs": [
    {
     "data": {
      "text/plain": [
       "['Спасибо, что скачали книгу в бесплатной электронной библиотеке BooksCafe.Net: http://bookscafe.net\\n\\nВсе книги автора: http://bookscafe.net/author/dostoevskiy_fedor-1096.html\\n\\nЭта же книга в других форматах: http://bookscafe.net/book/dostoevskiy_fedor-igrok-240117.html\\n\\nПриятного чтения!',\n",
       " 'Федор Михайлович Достоевский\\n\\nИгрок\\n\\n(Из записок молодого человека)\\n\\n\\n\\n\\nГлава I\\n\\nНаконец я возвратился из моей двухнедельной отлучки.']"
      ]
     },
     "execution_count": 158,
     "metadata": {},
     "output_type": "execute_result"
    }
   ],
   "source": [
    "text = open('Dostoevskiy Fedor. Igrok - BooksCafe.Net.txt', encoding = \"windows-1251\").read()\n",
    "sents = sent_tokenize(text)\n",
    "sents[:2]"
   ]
  },
  {
   "cell_type": "code",
   "execution_count": 159,
   "metadata": {},
   "outputs": [
    {
     "data": {
      "text/plain": [
       "[287]"
      ]
     },
     "execution_count": 159,
     "metadata": {},
     "output_type": "execute_result"
    }
   ],
   "source": [
    "[len(sent) for sent in sents][:1]"
   ]
  },
  {
   "cell_type": "code",
   "execution_count": 160,
   "metadata": {},
   "outputs": [
    {
     "data": {
      "text/plain": [
       "[287, 133, 41]"
      ]
     },
     "execution_count": 160,
     "metadata": {},
     "output_type": "execute_result"
    }
   ],
   "source": [
    "list(map(len, sents))[:3]"
   ]
  },
  {
   "cell_type": "markdown",
   "metadata": {},
   "source": [
    "2. Считайте файл `Dostoevskiy Fedor. Igrok - BooksCafe.Net.txt` и разбейте на предложения. Выведите предложения, длина которых не более 10 символов."
   ]
  },
  {
   "cell_type": "code",
   "execution_count": 161,
   "metadata": {},
   "outputs": [
    {
     "data": {
      "text/plain": [
       "['— ton).]',\n",
       " '—\\xa0Плюнуть?',\n",
       " '«Как!',\n",
       " '—\\xa0Почему?',\n",
       " '—\\xa0Как!',\n",
       " 'Чудо!',\n",
       " 'А?',\n",
       " 'Как зачем?',\n",
       " '—\\xa0Как?',\n",
       " '—\\xa0Кого?',\n",
       " '—\\xa0Зачем?',\n",
       " '—\\xa0Гейн!',\n",
       " '—\\xa0Гейн!',\n",
       " '(нем.).]',\n",
       " '—\\xa0Никаких.',\n",
       " 'Вот и все.',\n",
       " 'Прощайте.',\n",
       " 'Небось!',\n",
       " 'Понимаю-с.',\n",
       " 'Не так ли?',\n",
       " '(франц.).]',\n",
       " 'Так ли?',\n",
       " '—\\xa0О, о!',\n",
       " 'И не надо!',\n",
       " '—\\xa0Ну!',\n",
       " 'Ну!',\n",
       " '—\\xa0Как так?',\n",
       " '—\\xa0О да.',\n",
       " '—\\xa0Да, да!',\n",
       " 'это так!',\n",
       " '—\\xa0О ком?',\n",
       " '—\\xa0Только!',\n",
       " 'Схоронили!',\n",
       " 'Наши дома?',\n",
       " 'Генерал?',\n",
       " '—\\xa0О!',\n",
       " 'Экие рабы!',\n",
       " '—\\xa0Веселая?',\n",
       " '—\\xa0Bonjour!',\n",
       " 'сказал!',\n",
       " 'Я?',\n",
       " '—\\xa0О нет.',\n",
       " '(франц.).]',\n",
       " 'Экой олух!',\n",
       " 'Из каких?',\n",
       " 'Не знаешь?',\n",
       " 'Кто такая?',\n",
       " 'Потапыч!',\n",
       " 'Потапыч!',\n",
       " 'Что?',\n",
       " 'проиграл?',\n",
       " 'Ставь еще!',\n",
       " '—\\xa0Бабушка!',\n",
       " 'Не твои.',\n",
       " '(франц.).]',\n",
       " '—\\xa0Господи!',\n",
       " 'опоздали!',\n",
       " 'ставь!',\n",
       " 'Мусье!',\n",
       " 'мусье!',\n",
       " 'douze?',\n",
       " 'douze?',\n",
       " '(франц.).]',\n",
       " '(франц.).]',\n",
       " 'Проиграли!',\n",
       " '—\\xa0Еще!',\n",
       " 'еще!',\n",
       " 'еще!',\n",
       " 'ставь еще!',\n",
       " '—\\xa0Zero!',\n",
       " '—\\xa0Что!!!',\n",
       " '—\\xa0Rouge!',\n",
       " '—\\xa0Rouge!',\n",
       " 'Домой!',\n",
       " '(франц.).]',\n",
       " '(франц.).]',\n",
       " '—\\xa0Дай!',\n",
       " 'дай!',\n",
       " '—\\xa0Немного.',\n",
       " '(нем.).]',\n",
       " '(франц.).]',\n",
       " 'Боже!',\n",
       " 'опасно!',\n",
       " 'О!',\n",
       " '(франц.).]',\n",
       " '—\\xa0Бабушка!',\n",
       " '—\\xa0Батюшки!',\n",
       " 'Это ты!',\n",
       " 'Куда ты?',\n",
       " 'Дурак!',\n",
       " '—\\xa0Ну, ну!',\n",
       " 'Ставь!',\n",
       " '—\\xa0Вздор!',\n",
       " 'Отыграюсь!',\n",
       " 'Вези.',\n",
       " '—\\xa0Тетушка!',\n",
       " '— Ну!',\n",
       " 'Ничего!',\n",
       " '— меняй!',\n",
       " '—\\xa0Ну!',\n",
       " 'ну!',\n",
       " 'ну!',\n",
       " 'Ну, вот!',\n",
       " 'Ну, научи!',\n",
       " '—\\xa0Домой!',\n",
       " 'Едем!',\n",
       " 'Молчи!',\n",
       " '—\\xa0Diantre!',\n",
       " '(франц.).]',\n",
       " 'Стой!',\n",
       " 'Ступай!',\n",
       " 'прощай!',\n",
       " 'А!',\n",
       " 'Ох-хо-хо!',\n",
       " 'Но увы!',\n",
       " 'да!',\n",
       " '—\\xa0Что же?',\n",
       " 'Что же?',\n",
       " 'Вы?',\n",
       " 'Не то!..',\n",
       " 'А бабушка?',\n",
       " '—\\xa0Полина!',\n",
       " 'Увидишь!',\n",
       " '(франц.).',\n",
       " '(франц.).]',\n",
       " '—\\xa0Rouge!',\n",
       " '—\\xa0Quatre!',\n",
       " 'Как?',\n",
       " 'Так?',\n",
       " '—\\xa0Как?',\n",
       " 'Что это?',\n",
       " 'Да… да!..',\n",
       " 'Хочешь?',\n",
       " 'хочешь?',\n",
       " 'О глупый!',\n",
       " 'ха-ха-ха!',\n",
       " 'Ведь так?',\n",
       " 'Так?',\n",
       " '(нем.).]',\n",
       " '—\\xa0Неужели?',\n",
       " '—\\xa0Зачем?',\n",
       " '—\\xa0Неужели?',\n",
       " '—\\xa0Сколько?',\n",
       " '(франц.).]',\n",
       " '(франц.).]',\n",
       " '—\\xa0Сейчас?',\n",
       " '—\\xa0Eh bien!',\n",
       " '—\\xa0Как!',\n",
       " '(франц.).]',\n",
       " '(франц.).]',\n",
       " '—\\xa0Счет!',\n",
       " 'Ха-ха-ха!',\n",
       " '—\\xa0Не-е-ет!',\n",
       " '(франц.).]',\n",
       " '(франц.).]',\n",
       " '(франц.).]',\n",
       " '(франц.).]',\n",
       " 'Du-Placet!',\n",
       " '(франц.).]',\n",
       " '(франц.).]',\n",
       " 'Боже!',\n",
       " 'Zero.',\n",
       " 'Полина?',\n",
       " '—\\xa0Ба!',\n",
       " '—\\xa0Вот как!',\n",
       " '—\\xa0Как!',\n",
       " '—\\xa0Неужели!',\n",
       " 'Неужели?',\n",
       " 'Берите же!',\n",
       " 'Да!',\n",
       " '— ton).',\n",
       " '(нем.).',\n",
       " 'Не так ли?',\n",
       " '(франц.).',\n",
       " '(франц.).',\n",
       " '(франц.).',\n",
       " '(франц.).',\n",
       " '(франц.).',\n",
       " '(франц.).',\n",
       " '(франц.).',\n",
       " '(франц.).',\n",
       " '(нем.).',\n",
       " '(франц.).',\n",
       " '(франц.).',\n",
       " '(франц.).',\n",
       " '(франц.).',\n",
       " '(франц.).',\n",
       " '(нем.).',\n",
       " '(франц.).',\n",
       " '(франц.).',\n",
       " '(франц.).',\n",
       " '(франц.).',\n",
       " '(франц.).',\n",
       " '(франц.).',\n",
       " '(франц.).',\n",
       " '(франц.).',\n",
       " '(франц.).',\n",
       " '(франц.',\n",
       " ').']"
      ]
     },
     "execution_count": 161,
     "metadata": {},
     "output_type": "execute_result"
    }
   ],
   "source": [
    "[sent for sent in sents if len(sent)<=10]"
   ]
  },
  {
   "cell_type": "code",
   "execution_count": 162,
   "metadata": {},
   "outputs": [
    {
     "data": {
      "text/plain": [
       "['— ton).]', '—\\xa0Плюнуть?', '«Как!']"
      ]
     },
     "execution_count": 162,
     "metadata": {},
     "output_type": "execute_result"
    }
   ],
   "source": [
    "list(filter(lambda sent: len(sent)<=10, sents))[:3]"
   ]
  },
  {
   "cell_type": "markdown",
   "metadata": {},
   "source": [
    "3. На основе списка предложений из задачи 1-2 создайте `dask.bag`. Рассчитайте среднюю длину предложений в тексте."
   ]
  },
  {
   "cell_type": "code",
   "execution_count": 163,
   "metadata": {},
   "outputs": [],
   "source": [
    "import dask.bag as db"
   ]
  },
  {
   "cell_type": "code",
   "execution_count": 164,
   "metadata": {},
   "outputs": [
    {
     "data": {
      "text/plain": [
       "72.89840944073885"
      ]
     },
     "execution_count": 164,
     "metadata": {},
     "output_type": "execute_result"
    }
   ],
   "source": [
    "bag = db.from_sequence(sents)\n",
    "bag.map(len).mean().compute()"
   ]
  },
  {
   "cell_type": "markdown",
   "metadata": {},
   "source": [
    "4. На основе файла `addres_book.json` создайте `dask.bag`. Посчитайте количество мобильных и рабочих телефонов в наборе данных"
   ]
  },
  {
   "cell_type": "code",
   "execution_count": 165,
   "metadata": {},
   "outputs": [],
   "source": [
    "import json"
   ]
  },
  {
   "cell_type": "code",
   "execution_count": 166,
   "metadata": {},
   "outputs": [
    {
     "data": {
      "text/plain": [
       "{'name': 'Faina Lee',\n",
       " 'email': 'faina@mail.ru',\n",
       " 'birthday': '22.08.1994',\n",
       " 'phones': [{'phone': '232-19-55'}, {'phone': '+7 (916) 232-19-55'}]}"
      ]
     },
     "execution_count": 166,
     "metadata": {},
     "output_type": "execute_result"
    }
   ],
   "source": [
    "data = json.load(open('addres-book.json'))\n",
    "data[0]"
   ]
  },
  {
   "cell_type": "code",
   "execution_count": 167,
   "metadata": {},
   "outputs": [
    {
     "data": {
      "text/plain": [
       "dask.bag<from_sequence, npartitions=8>"
      ]
     },
     "execution_count": 167,
     "metadata": {},
     "output_type": "execute_result"
    }
   ],
   "source": [
    "bag = db.from_sequence(data)\n",
    "bag"
   ]
  },
  {
   "cell_type": "code",
   "execution_count": 168,
   "metadata": {},
   "outputs": [
    {
     "data": {
      "text/plain": [
       "[[{'phone': '232-19-55'}, {'phone': '+7 (916) 232-19-55'}],\n",
       " [{'phone': '111-19-55'}],\n",
       " [{'phone': '232-19-56'}, {'phone': '+7 (916) 232-19-56'}],\n",
       " [{'phone': '+7 (916) 445-19-57'}],\n",
       " [{'phone': '232-19-58'}, {'phone': '+7 (916) 232-19-58'}],\n",
       " [{'phone': '+7 (916) 445-19-59'}],\n",
       " [{'phone': '232-19-50'}, {'phone': '+7 (916) 232-19-50'}],\n",
       " [{'phone': '111-19-51'}, {'phone': '+7 (916) 445-19-51'}]]"
      ]
     },
     "execution_count": 168,
     "metadata": {},
     "output_type": "execute_result"
    }
   ],
   "source": [
    "bag.map(lambda person: person['phones']).compute()"
   ]
  },
  {
   "cell_type": "code",
   "execution_count": 169,
   "metadata": {},
   "outputs": [
    {
     "data": {
      "text/plain": [
       "[[{'phone': '232-19-55'}, {'phone': '+7 (916) 232-19-55'}],\n",
       " [{'phone': '111-19-55'}],\n",
       " [{'phone': '232-19-56'}, {'phone': '+7 (916) 232-19-56'}],\n",
       " [{'phone': '+7 (916) 445-19-57'}],\n",
       " [{'phone': '232-19-58'}, {'phone': '+7 (916) 232-19-58'}],\n",
       " [{'phone': '+7 (916) 445-19-59'}],\n",
       " [{'phone': '232-19-50'}, {'phone': '+7 (916) 232-19-50'}],\n",
       " [{'phone': '111-19-51'}, {'phone': '+7 (916) 445-19-51'}]]"
      ]
     },
     "execution_count": 169,
     "metadata": {},
     "output_type": "execute_result"
    }
   ],
   "source": [
    "bag.pluck('phones').compute()"
   ]
  },
  {
   "cell_type": "code",
   "execution_count": 170,
   "metadata": {},
   "outputs": [
    {
     "data": {
      "text/plain": [
       "[{'phone': '232-19-55'},\n",
       " {'phone': '+7 (916) 232-19-55'},\n",
       " {'phone': '111-19-55'},\n",
       " {'phone': '232-19-56'},\n",
       " {'phone': '+7 (916) 232-19-56'},\n",
       " {'phone': '+7 (916) 445-19-57'},\n",
       " {'phone': '232-19-58'},\n",
       " {'phone': '+7 (916) 232-19-58'},\n",
       " {'phone': '+7 (916) 445-19-59'},\n",
       " {'phone': '232-19-50'},\n",
       " {'phone': '+7 (916) 232-19-50'},\n",
       " {'phone': '111-19-51'},\n",
       " {'phone': '+7 (916) 445-19-51'}]"
      ]
     },
     "execution_count": 170,
     "metadata": {},
     "output_type": "execute_result"
    }
   ],
   "source": [
    "bag.pluck('phones').flatten().compute()"
   ]
  },
  {
   "cell_type": "code",
   "execution_count": 171,
   "metadata": {},
   "outputs": [],
   "source": [
    "def add_type(phone):\n",
    "    phone['type'] = 'mobile' if phone['phone'].startswith('+7') else 'work'\n",
    "    return phone"
   ]
  },
  {
   "cell_type": "code",
   "execution_count": 172,
   "metadata": {},
   "outputs": [
    {
     "data": {
      "text/plain": [
       "[{'phone': '232-19-55', 'type': 'work'},\n",
       " {'phone': '+7 (916) 232-19-55', 'type': 'mobile'},\n",
       " {'phone': '111-19-55', 'type': 'work'},\n",
       " {'phone': '232-19-56', 'type': 'work'},\n",
       " {'phone': '+7 (916) 232-19-56', 'type': 'mobile'},\n",
       " {'phone': '+7 (916) 445-19-57', 'type': 'mobile'},\n",
       " {'phone': '232-19-58', 'type': 'work'},\n",
       " {'phone': '+7 (916) 232-19-58', 'type': 'mobile'},\n",
       " {'phone': '+7 (916) 445-19-59', 'type': 'mobile'},\n",
       " {'phone': '232-19-50', 'type': 'work'},\n",
       " {'phone': '+7 (916) 232-19-50', 'type': 'mobile'},\n",
       " {'phone': '111-19-51', 'type': 'work'},\n",
       " {'phone': '+7 (916) 445-19-51', 'type': 'mobile'}]"
      ]
     },
     "execution_count": 172,
     "metadata": {},
     "output_type": "execute_result"
    }
   ],
   "source": [
    "bag.pluck('phones').flatten().map(add_type).compute()"
   ]
  },
  {
   "cell_type": "code",
   "execution_count": 173,
   "metadata": {},
   "outputs": [
    {
     "data": {
      "text/plain": [
       "['work',\n",
       " 'mobile',\n",
       " 'work',\n",
       " 'work',\n",
       " 'mobile',\n",
       " 'mobile',\n",
       " 'work',\n",
       " 'mobile',\n",
       " 'mobile',\n",
       " 'work',\n",
       " 'mobile',\n",
       " 'work',\n",
       " 'mobile']"
      ]
     },
     "execution_count": 173,
     "metadata": {},
     "output_type": "execute_result"
    }
   ],
   "source": [
    "bag.pluck('phones').flatten().map(add_type).pluck('type').compute()"
   ]
  },
  {
   "cell_type": "code",
   "execution_count": 174,
   "metadata": {},
   "outputs": [
    {
     "data": {
      "text/plain": [
       "[('work', 6), ('mobile', 7)]"
      ]
     },
     "execution_count": 174,
     "metadata": {},
     "output_type": "execute_result"
    }
   ],
   "source": [
    "(bag.pluck('phones')\n",
    "    .flatten()\n",
    "    .map(add_type)\n",
    "    .pluck('type')\n",
    "    .frequencies()\n",
    "    .compute())"
   ]
  },
  {
   "cell_type": "code",
   "execution_count": 175,
   "metadata": {},
   "outputs": [
    {
     "data": {
      "text/plain": [
       "[('work', 6), ('mobile', 7)]"
      ]
     },
     "execution_count": 175,
     "metadata": {},
     "output_type": "execute_result"
    }
   ],
   "source": [
    "bag.pluck('phones')\\\n",
    "   .flatten()\\\n",
    "   .map(add_type)\\\n",
    "   .pluck('type')\\\n",
    "   .frequencies()\\\n",
    "   .compute()"
   ]
  },
  {
   "cell_type": "code",
   "execution_count": 176,
   "metadata": {},
   "outputs": [
    {
     "data": {
      "text/plain": [
       "[('work', 6), ('mobile', 7)]"
      ]
     },
     "execution_count": 176,
     "metadata": {},
     "output_type": "execute_result"
    }
   ],
   "source": [
    "flatten_phones = bag.pluck('phones').flatten()\n",
    "types = flatten_phones.map(add_type).pluck('type')\n",
    "types.frequencies().compute()"
   ]
  },
  {
   "cell_type": "code",
   "execution_count": 177,
   "metadata": {},
   "outputs": [],
   "source": [
    "def binop(total, value):\n",
    "    return total + 1"
   ]
  },
  {
   "cell_type": "code",
   "execution_count": 178,
   "metadata": {},
   "outputs": [],
   "source": [
    "def combine(left, right):\n",
    "    return left + right"
   ]
  },
  {
   "cell_type": "code",
   "execution_count": 179,
   "metadata": {},
   "outputs": [
    {
     "data": {
      "text/plain": [
       "[('work', 6), ('mobile', 7)]"
      ]
     },
     "execution_count": 179,
     "metadata": {},
     "output_type": "execute_result"
    }
   ],
   "source": [
    "(bag.pluck('phones')\n",
    "    .flatten()\n",
    "    .map(add_type)\n",
    "    .foldby('type', binop, 0, combine, 0)\n",
    "    .compute())"
   ]
  },
  {
   "cell_type": "markdown",
   "metadata": {},
   "source": [
    "## Лабораторная работа 12"
   ]
  },
  {
   "cell_type": "code",
   "execution_count": 180,
   "metadata": {},
   "outputs": [],
   "source": [
    "import dask.bag as db\n",
    "import json\n",
    "import re\n",
    "import pandas as pd"
   ]
  },
  {
   "cell_type": "markdown",
   "metadata": {},
   "source": [
    "1. В файлах архиве `reviews_full.zip` находятся файлы, содержащие информацию об отзывах к рецептам в формате JSON Lines. Отзывы разделены на файлы в зависимости от оценки (например, в файле `reviews_1.json` находятся отзывы с оценкой 1). Считайте файлы из этого архива в виде `dask.bag`. Преобразуйте текстовое содержимое файлов с помощью модуля `json`. Выведите на экран первые 5 элементов полученного `bag`."
   ]
  },
  {
   "cell_type": "code",
   "execution_count": 181,
   "metadata": {},
   "outputs": [
    {
     "data": {
      "text/plain": [
       "({'user_id': 452355,\n",
       "  'recipe_id': 292657,\n",
       "  'date': '2016-05-08',\n",
       "  'review': 'WOW!!! This is the best. I have never been able to make homemade enchiladas that taste like the Mexican restaurants. I made this last night for my family and they said they will never have enchiladas at the Mexican Restaurants again. Thanks for sharing.'},\n",
       " {'user_id': 329304,\n",
       "  'recipe_id': 433404,\n",
       "  'date': '2006-06-14',\n",
       "  'review': 'This was good but the dressing needed something and I found it to be a little too sweet, next time I will experiment with some garlic and herbs and reduce the sugar slightly, thanks for sharing kcdlong!...Kitten'},\n",
       " {'user_id': 227932,\n",
       "  'recipe_id': 2008187,\n",
       "  'date': '1985-11-19',\n",
       "  'review': 'Very good,it was a hit for my family. I used 6 cloves of garlic and had 1 lb beef and  Johnsonville sausage,1/2 lb hot and  1/2 lb honey garlic( which I wanted to use). That was a perfect combo for us. The sausage gave it nice flavor No guestion , I will be making this often.'},\n",
       " {'user_id': 171468,\n",
       "  'recipe_id': 270716,\n",
       "  'date': '2019-05-21',\n",
       "  'review': 'Made for ZWT-8 Family Picks after I saw these mentioned in the Family Picks thread. So I got up this morning, made my morning coffee while the oven was heating & then made these quick-fix sweet treats B4 I was ready for my 2nd cup of coffee. I used 8\" tortillas (all I had on-hand) & cut them into 8 wedges. Then I used 2 of my Pamperd Chef gadgets .. my sml basting brush to spread the honey on the warm tortillas & my flour/sugar shaker to sprinkle the powd sugar/cinnamon mixture atop the honeyed tortillas. It might have taken a total of 2 min from oven to tasting! Yum! Using the same \"sweet mix\" these would also be good w/butter, cream cheese or even lime juice. Can\\'t wait to try them w/lime juice! Thx for sharing this tasty little treat w/us.'},\n",
       " {'user_id': 91392,\n",
       "  'recipe_id': 1159916,\n",
       "  'date': '1972-09-18',\n",
       "  'review': \"Very nice slaw. I especially like that it doesn't have the mayo dressing. I used a prepackaged Cole slaw mix, so i didn't include the carrots nor the nuts. I also doubled the sauce. :)\"})"
      ]
     },
     "execution_count": 181,
     "metadata": {},
     "output_type": "execute_result"
    }
   ],
   "source": [
    "reviews = db.read_text('reviews_*.json').map(json.loads)\n",
    "reviews.take(5)"
   ]
  },
  {
   "cell_type": "markdown",
   "metadata": {},
   "source": [
    "2. Модифицируйте функцию разбора JSON таким образом, чтобы в каждый словарь c информацией об отзыве добавить ключ `rating`. Значение получите на основе названия файла (см. аргумент `include_path`), использовав для этого регулярное выражение."
   ]
  },
  {
   "cell_type": "code",
   "execution_count": 182,
   "metadata": {},
   "outputs": [
    {
     "data": {
      "text/plain": [
       "({'user_id': 452355,\n",
       "  'recipe_id': 292657,\n",
       "  'date': '2016-05-08',\n",
       "  'review': 'WOW!!! This is the best. I have never been able to make homemade enchiladas that taste like the Mexican restaurants. I made this last night for my family and they said they will never have enchiladas at the Mexican Restaurants again. Thanks for sharing.',\n",
       "  'rating': 0},)"
      ]
     },
     "execution_count": 182,
     "metadata": {},
     "output_type": "execute_result"
    }
   ],
   "source": [
    "def add_rating(data):\n",
    "    rev = json.loads(data[0])\n",
    "    rev['rating'] = int(re.findall(r'reviews_(\\d).json', data[1])[0])\n",
    "    return rev\n",
    "    \n",
    "rev_rat = db.read_text('reviews_*.json', include_path = True).map(add_rating)\n",
    "rev_rat.take(1)"
   ]
  },
  {
   "cell_type": "markdown",
   "metadata": {},
   "source": [
    "3. Посчитайте количество отзывов в исходном датасете."
   ]
  },
  {
   "cell_type": "code",
   "execution_count": 183,
   "metadata": {},
   "outputs": [
    {
     "data": {
      "text/plain": [
       "9057540"
      ]
     },
     "execution_count": 183,
     "metadata": {},
     "output_type": "execute_result"
    }
   ],
   "source": [
    "rev_rat.count().compute()"
   ]
  },
  {
   "cell_type": "markdown",
   "metadata": {},
   "source": [
    "4. Отфильтруйте `bag`, сохранив только отзывы, оставленные в 2014 и 2015 годах."
   ]
  },
  {
   "cell_type": "code",
   "execution_count": 191,
   "metadata": {},
   "outputs": [
    {
     "data": {
      "text/plain": [
       "({'user_id': 229850,\n",
       "  'recipe_id': 1300038,\n",
       "  'date': '2014-10-03',\n",
       "  'review': 'Took this to a New Year&#039;s Eve Party. Everyone loved it! It&#039;s absolutely perfect, the flavor, the crunch, just delicious!',\n",
       "  'rating': 0},)"
      ]
     },
     "execution_count": 191,
     "metadata": {},
     "output_type": "execute_result"
    }
   ],
   "source": [
    "filt_rev_rat = rev_rat.filter(lambda date: re.findall(r'\\d{4}', date['date'])[0]=='2014' or re.findall(r'\\d{4}', date['date'])[0]=='2015')\n",
    "filt_rev_rat.take(1)"
   ]
  },
  {
   "cell_type": "markdown",
   "metadata": {},
   "source": [
    " 5. Выполните препроцессинг отзывов:\n",
    "    * привести строки к нижнему регистру\n",
    "    * обрезать пробельные символы в начале и конце строки\n",
    "    * удалите все символы, кроме английских букв и пробелов\n",
    "    \n",
    "Примените препроцессинг ко всем записям из `bag`, полученного в задании 4."
   ]
  },
  {
   "cell_type": "code",
   "execution_count": 185,
   "metadata": {},
   "outputs": [
    {
     "data": {
      "text/plain": [
       "({'user_id': 229850,\n",
       "  'recipe_id': 1300038,\n",
       "  'date': '2014-10-03',\n",
       "  'review': 'took this to a new year s eve party everyone loved it it s absolutely perfect the flavor the crunch just delicious ',\n",
       "  'rating': 0},)"
      ]
     },
     "execution_count": 185,
     "metadata": {},
     "output_type": "execute_result"
    }
   ],
   "source": [
    "def pprocessing(data):\n",
    "    data['review'] = re.sub(r\"[^a-zA-Z]+\", ' ', data['review'].lower().strip())\n",
    "    return data\n",
    "\n",
    "pp_rev_rat = filt_rev_rat.map(pprocessing)\n",
    "pp_rev_rat.take(1)"
   ]
  },
  {
   "cell_type": "markdown",
   "metadata": {},
   "source": [
    "6. Посчитайте количество отзывов в датасете, полученном в результате решения задачи 5. В случае ошибок прокомментируйте результат и исправьте функцию препроцессинга."
   ]
  },
  {
   "cell_type": "code",
   "execution_count": 186,
   "metadata": {},
   "outputs": [
    {
     "data": {
      "text/plain": [
       "735274"
      ]
     },
     "execution_count": 186,
     "metadata": {},
     "output_type": "execute_result"
    }
   ],
   "source": [
    "pp_rev_rat.count().compute()"
   ]
  },
  {
   "cell_type": "markdown",
   "metadata": {},
   "source": [
    "7. Посчитайте, как часто в наборе, полученном в задании 5, встречается та или иная оценка."
   ]
  },
  {
   "cell_type": "code",
   "execution_count": 187,
   "metadata": {},
   "outputs": [
    {
     "data": {
      "text/plain": [
       "[(0, 42472), (1, 9246), (2, 9380), (3, 26532), (4, 119413), (5, 528231)]"
      ]
     },
     "execution_count": 187,
     "metadata": {},
     "output_type": "execute_result"
    }
   ],
   "source": [
    "pp_rev_rat.pluck('rating').frequencies().compute()"
   ]
  },
  {
   "cell_type": "markdown",
   "metadata": {},
   "source": [
    "8. Найдите среднее значение `rating` в наборе, полученном в задании 5."
   ]
  },
  {
   "cell_type": "code",
   "execution_count": 188,
   "metadata": {},
   "outputs": [
    {
     "data": {
      "text/plain": [
       "4.388036296673077"
      ]
     },
     "execution_count": 188,
     "metadata": {},
     "output_type": "execute_result"
    }
   ],
   "source": [
    "pp_rev_rat.pluck('rating').mean().compute()"
   ]
  },
  {
   "cell_type": "markdown",
   "metadata": {},
   "source": [
    "9. Используя метод `foldby`, подсчитать максимальную длину отзывов в зависимости от оценки `rating` в наборе, полученном в задании 5."
   ]
  },
  {
   "cell_type": "code",
   "execution_count": 189,
   "metadata": {},
   "outputs": [],
   "source": [
    "def binop(x, data):\n",
    "    return max(x, len(data['review']))"
   ]
  },
  {
   "cell_type": "code",
   "execution_count": 190,
   "metadata": {},
   "outputs": [
    {
     "data": {
      "text/plain": [
       "[(0, 6641), (1, 3132), (2, 2834), (3, 3163), (4, 6641), (5, 5398)]"
      ]
     },
     "execution_count": 190,
     "metadata": {},
     "output_type": "execute_result"
    }
   ],
   "source": [
    "pp_rev_rat.foldby('rating', binop, initial = 0).compute()"
   ]
  },
  {
   "cell_type": "code",
   "execution_count": null,
   "metadata": {},
   "outputs": [],
   "source": []
  }
 ],
 "metadata": {
  "kernelspec": {
   "display_name": "Python 3",
   "language": "python",
   "name": "python3"
  },
  "language_info": {
   "codemirror_mode": {
    "name": "ipython",
    "version": 3
   },
   "file_extension": ".py",
   "mimetype": "text/x-python",
   "name": "python",
   "nbconvert_exporter": "python",
   "pygments_lexer": "ipython3",
   "version": "3.8.8"
  }
 },
 "nbformat": 4,
 "nbformat_minor": 4
}
