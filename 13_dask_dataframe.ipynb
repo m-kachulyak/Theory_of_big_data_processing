{
 "cells": [
  {
   "cell_type": "markdown",
   "metadata": {},
   "source": [
    "# Dask DataFrame"
   ]
  },
  {
   "cell_type": "markdown",
   "metadata": {},
   "source": [
    "Материалы: \n",
    "* Макрушин С.В. Лекция 13: Dask DataFrame\n",
    "* https://docs.dask.org/en/latest/dataframe.html\n",
    "* Jesse C. Daniel. Data Science with Python and Dask. "
   ]
  },
  {
   "cell_type": "markdown",
   "metadata": {},
   "source": [
    "## Задачи для совместного разбора"
   ]
  },
  {
   "cell_type": "markdown",
   "metadata": {},
   "source": [
    "1. Считать данные из файлов в каталоге `accounts`. Содержат ли какие-либо из столбцов пропуски?"
   ]
  },
  {
   "cell_type": "markdown",
   "metadata": {},
   "source": [
    "2. Подсчитать количество раз, которое то или иное имя встретилось в выборке. Вывести самое часто встречающееся имя."
   ]
  },
  {
   "cell_type": "markdown",
   "metadata": {},
   "source": [
    "3. Создать новую колонку, которая является результатом от деления значения `amount` нацело на 100, если `amount` > 100, и нулём в противном случае."
   ]
  },
  {
   "cell_type": "markdown",
   "metadata": {},
   "source": [
    "## Лабораторная работа 13"
   ]
  },
  {
   "cell_type": "markdown",
   "metadata": {},
   "source": [
    "__При решении данных задач не подразумевается использования других коллекций, кроме `dask.DataFrame`, если в задании явно не указано обратное.__"
   ]
  },
  {
   "cell_type": "code",
   "execution_count": 69,
   "metadata": {},
   "outputs": [],
   "source": [
    "import dask.dataframe as dd\n",
    "import pandas as pd\n",
    "import dask.bag as db\n",
    "import json\n",
    "import dask"
   ]
  },
  {
   "cell_type": "markdown",
   "metadata": {},
   "source": [
    "1. В архиве `recipes_full.zip` находятся файлы, содержащие информацию об рецептах блюд. Загрузите данные из файлов этого архива в виде `dd.DataFrame` с названием `recipes`. Укажите, что в столбце `submitted` содержатся даты."
   ]
  },
  {
   "cell_type": "code",
   "execution_count": 70,
   "metadata": {},
   "outputs": [
    {
     "data": {
      "text/html": [
       "<div>\n",
       "<style scoped>\n",
       "    .dataframe tbody tr th:only-of-type {\n",
       "        vertical-align: middle;\n",
       "    }\n",
       "\n",
       "    .dataframe tbody tr th {\n",
       "        vertical-align: top;\n",
       "    }\n",
       "\n",
       "    .dataframe thead th {\n",
       "        text-align: right;\n",
       "    }\n",
       "</style>\n",
       "<table border=\"1\" class=\"dataframe\">\n",
       "  <thead>\n",
       "    <tr style=\"text-align: right;\">\n",
       "      <th></th>\n",
       "      <th>id</th>\n",
       "      <th>name</th>\n",
       "      <th>minutes</th>\n",
       "      <th>contributor_id</th>\n",
       "      <th>submitted</th>\n",
       "      <th>n_steps</th>\n",
       "      <th>description</th>\n",
       "      <th>n_ingredients</th>\n",
       "    </tr>\n",
       "  </thead>\n",
       "  <tbody>\n",
       "    <tr>\n",
       "      <th>0</th>\n",
       "      <td>683970.0</td>\n",
       "      <td>vant ivoire mickies nothing</td>\n",
       "      <td>33.0</td>\n",
       "      <td>803776.0</td>\n",
       "      <td>2019-08-22</td>\n",
       "      <td>4.0</td>\n",
       "      <td>pat and gina neely and their family own and op...</td>\n",
       "      <td>9.0</td>\n",
       "    </tr>\n",
       "    <tr>\n",
       "      <th>1</th>\n",
       "      <td>1089012.0</td>\n",
       "      <td>kremsils mariposa baccala cookies class borage...</td>\n",
       "      <td>23.0</td>\n",
       "      <td>51579.0</td>\n",
       "      <td>2013-03-02</td>\n",
       "      <td>1.0</td>\n",
       "      <td>a light, tasty and easy to put together chicke...</td>\n",
       "      <td>5.0</td>\n",
       "    </tr>\n",
       "    <tr>\n",
       "      <th>2</th>\n",
       "      <td>1428572.0</td>\n",
       "      <td>tania lander</td>\n",
       "      <td>0.0</td>\n",
       "      <td>68884.0</td>\n",
       "      <td>1980-11-09</td>\n",
       "      <td>1.0</td>\n",
       "      <td>a delicious melt in your mouth appetizer. for ...</td>\n",
       "      <td>5.0</td>\n",
       "    </tr>\n",
       "    <tr>\n",
       "      <th>3</th>\n",
       "      <td>1400250.0</td>\n",
       "      <td>heloise milli asher doogh zojirushi</td>\n",
       "      <td>24.0</td>\n",
       "      <td>678862.0</td>\n",
       "      <td>2018-04-29</td>\n",
       "      <td>3.0</td>\n",
       "      <td>delicious cream cheese and peach filled cresce...</td>\n",
       "      <td>1.0</td>\n",
       "    </tr>\n",
       "    <tr>\n",
       "      <th>4</th>\n",
       "      <td>387709.0</td>\n",
       "      <td>nutty chocolate chunk cookies</td>\n",
       "      <td>47.0</td>\n",
       "      <td>489552.0</td>\n",
       "      <td>2009-08-31</td>\n",
       "      <td>8.0</td>\n",
       "      <td>everyone loves these buttery cookies chock ful...</td>\n",
       "      <td>10.0</td>\n",
       "    </tr>\n",
       "  </tbody>\n",
       "</table>\n",
       "</div>"
      ],
      "text/plain": [
       "          id                                               name  minutes  \\\n",
       "0   683970.0                        vant ivoire mickies nothing     33.0   \n",
       "1  1089012.0  kremsils mariposa baccala cookies class borage...     23.0   \n",
       "2  1428572.0                                       tania lander      0.0   \n",
       "3  1400250.0                heloise milli asher doogh zojirushi     24.0   \n",
       "4   387709.0                      nutty chocolate chunk cookies     47.0   \n",
       "\n",
       "   contributor_id  submitted  n_steps  \\\n",
       "0        803776.0 2019-08-22      4.0   \n",
       "1         51579.0 2013-03-02      1.0   \n",
       "2         68884.0 1980-11-09      1.0   \n",
       "3        678862.0 2018-04-29      3.0   \n",
       "4        489552.0 2009-08-31      8.0   \n",
       "\n",
       "                                         description  n_ingredients  \n",
       "0  pat and gina neely and their family own and op...            9.0  \n",
       "1  a light, tasty and easy to put together chicke...            5.0  \n",
       "2  a delicious melt in your mouth appetizer. for ...            5.0  \n",
       "3  delicious cream cheese and peach filled cresce...            1.0  \n",
       "4  everyone loves these buttery cookies chock ful...           10.0  "
      ]
     },
     "execution_count": 70,
     "metadata": {},
     "output_type": "execute_result"
    }
   ],
   "source": [
    "reсipes_full = dd.read_csv('recipes_full_*.csv', parse_dates = ['submitted'], assume_missing = True)\n",
    "reсipes_full.head()"
   ]
  },
  {
   "cell_type": "code",
   "execution_count": 71,
   "metadata": {},
   "outputs": [],
   "source": [
    "# assume_missing может указать Dask на необходимость исползования float для столбцов содержащих значения int, \n",
    "# что позволит хранить в этих столбцах значения np.NaN для пропущенных значений"
   ]
  },
  {
   "cell_type": "markdown",
   "metadata": {},
   "source": [
    "2. Выведите метаинформацию о таблице: `npartitions` и типы столбцов."
   ]
  },
  {
   "cell_type": "code",
   "execution_count": 72,
   "metadata": {},
   "outputs": [
    {
     "data": {
      "text/plain": [
       "16"
      ]
     },
     "execution_count": 72,
     "metadata": {},
     "output_type": "execute_result"
    }
   ],
   "source": [
    "reсipes_full.npartitions"
   ]
  },
  {
   "cell_type": "code",
   "execution_count": 73,
   "metadata": {},
   "outputs": [
    {
     "data": {
      "text/plain": [
       "id                       float64\n",
       "name                      object\n",
       "minutes                  float64\n",
       "contributor_id           float64\n",
       "submitted         datetime64[ns]\n",
       "n_steps                  float64\n",
       "description               object\n",
       "n_ingredients            float64\n",
       "dtype: object"
      ]
     },
     "execution_count": 73,
     "metadata": {},
     "output_type": "execute_result"
    }
   ],
   "source": [
    "reсipes_full.dtypes"
   ]
  },
  {
   "cell_type": "markdown",
   "metadata": {},
   "source": [
    "3. Выведите на экран 5 первых строк таблицы. Выведите на экран 5 последних строк таблицы. В случае сообщения об ошибки объясните причину и исправьте ошибку."
   ]
  },
  {
   "cell_type": "code",
   "execution_count": 74,
   "metadata": {},
   "outputs": [
    {
     "data": {
      "text/html": [
       "<div>\n",
       "<style scoped>\n",
       "    .dataframe tbody tr th:only-of-type {\n",
       "        vertical-align: middle;\n",
       "    }\n",
       "\n",
       "    .dataframe tbody tr th {\n",
       "        vertical-align: top;\n",
       "    }\n",
       "\n",
       "    .dataframe thead th {\n",
       "        text-align: right;\n",
       "    }\n",
       "</style>\n",
       "<table border=\"1\" class=\"dataframe\">\n",
       "  <thead>\n",
       "    <tr style=\"text-align: right;\">\n",
       "      <th></th>\n",
       "      <th>id</th>\n",
       "      <th>name</th>\n",
       "      <th>minutes</th>\n",
       "      <th>contributor_id</th>\n",
       "      <th>submitted</th>\n",
       "      <th>n_steps</th>\n",
       "      <th>description</th>\n",
       "      <th>n_ingredients</th>\n",
       "    </tr>\n",
       "  </thead>\n",
       "  <tbody>\n",
       "    <tr>\n",
       "      <th>0</th>\n",
       "      <td>683970.0</td>\n",
       "      <td>vant ivoire mickies nothing</td>\n",
       "      <td>33.0</td>\n",
       "      <td>803776.0</td>\n",
       "      <td>2019-08-22</td>\n",
       "      <td>4.0</td>\n",
       "      <td>pat and gina neely and their family own and op...</td>\n",
       "      <td>9.0</td>\n",
       "    </tr>\n",
       "    <tr>\n",
       "      <th>1</th>\n",
       "      <td>1089012.0</td>\n",
       "      <td>kremsils mariposa baccala cookies class borage...</td>\n",
       "      <td>23.0</td>\n",
       "      <td>51579.0</td>\n",
       "      <td>2013-03-02</td>\n",
       "      <td>1.0</td>\n",
       "      <td>a light, tasty and easy to put together chicke...</td>\n",
       "      <td>5.0</td>\n",
       "    </tr>\n",
       "    <tr>\n",
       "      <th>2</th>\n",
       "      <td>1428572.0</td>\n",
       "      <td>tania lander</td>\n",
       "      <td>0.0</td>\n",
       "      <td>68884.0</td>\n",
       "      <td>1980-11-09</td>\n",
       "      <td>1.0</td>\n",
       "      <td>a delicious melt in your mouth appetizer. for ...</td>\n",
       "      <td>5.0</td>\n",
       "    </tr>\n",
       "    <tr>\n",
       "      <th>3</th>\n",
       "      <td>1400250.0</td>\n",
       "      <td>heloise milli asher doogh zojirushi</td>\n",
       "      <td>24.0</td>\n",
       "      <td>678862.0</td>\n",
       "      <td>2018-04-29</td>\n",
       "      <td>3.0</td>\n",
       "      <td>delicious cream cheese and peach filled cresce...</td>\n",
       "      <td>1.0</td>\n",
       "    </tr>\n",
       "    <tr>\n",
       "      <th>4</th>\n",
       "      <td>387709.0</td>\n",
       "      <td>nutty chocolate chunk cookies</td>\n",
       "      <td>47.0</td>\n",
       "      <td>489552.0</td>\n",
       "      <td>2009-08-31</td>\n",
       "      <td>8.0</td>\n",
       "      <td>everyone loves these buttery cookies chock ful...</td>\n",
       "      <td>10.0</td>\n",
       "    </tr>\n",
       "  </tbody>\n",
       "</table>\n",
       "</div>"
      ],
      "text/plain": [
       "          id                                               name  minutes  \\\n",
       "0   683970.0                        vant ivoire mickies nothing     33.0   \n",
       "1  1089012.0  kremsils mariposa baccala cookies class borage...     23.0   \n",
       "2  1428572.0                                       tania lander      0.0   \n",
       "3  1400250.0                heloise milli asher doogh zojirushi     24.0   \n",
       "4   387709.0                      nutty chocolate chunk cookies     47.0   \n",
       "\n",
       "   contributor_id  submitted  n_steps  \\\n",
       "0        803776.0 2019-08-22      4.0   \n",
       "1         51579.0 2013-03-02      1.0   \n",
       "2         68884.0 1980-11-09      1.0   \n",
       "3        678862.0 2018-04-29      3.0   \n",
       "4        489552.0 2009-08-31      8.0   \n",
       "\n",
       "                                         description  n_ingredients  \n",
       "0  pat and gina neely and their family own and op...            9.0  \n",
       "1  a light, tasty and easy to put together chicke...            5.0  \n",
       "2  a delicious melt in your mouth appetizer. for ...            5.0  \n",
       "3  delicious cream cheese and peach filled cresce...            1.0  \n",
       "4  everyone loves these buttery cookies chock ful...           10.0  "
      ]
     },
     "execution_count": 74,
     "metadata": {},
     "output_type": "execute_result"
    }
   ],
   "source": [
    "reсipes_full.head()"
   ]
  },
  {
   "cell_type": "code",
   "execution_count": 75,
   "metadata": {},
   "outputs": [
    {
     "data": {
      "text/html": [
       "<div>\n",
       "<style scoped>\n",
       "    .dataframe tbody tr th:only-of-type {\n",
       "        vertical-align: middle;\n",
       "    }\n",
       "\n",
       "    .dataframe tbody tr th {\n",
       "        vertical-align: top;\n",
       "    }\n",
       "\n",
       "    .dataframe thead th {\n",
       "        text-align: right;\n",
       "    }\n",
       "</style>\n",
       "<table border=\"1\" class=\"dataframe\">\n",
       "  <thead>\n",
       "    <tr style=\"text-align: right;\">\n",
       "      <th></th>\n",
       "      <th>id</th>\n",
       "      <th>name</th>\n",
       "      <th>minutes</th>\n",
       "      <th>contributor_id</th>\n",
       "      <th>submitted</th>\n",
       "      <th>n_steps</th>\n",
       "      <th>description</th>\n",
       "      <th>n_ingredients</th>\n",
       "    </tr>\n",
       "  </thead>\n",
       "  <tbody>\n",
       "    <tr>\n",
       "      <th>44011</th>\n",
       "      <td>1029131.0</td>\n",
       "      <td>tuti waffle snackies steakhouse</td>\n",
       "      <td>19.0</td>\n",
       "      <td>171345.0</td>\n",
       "      <td>1973-10-18</td>\n",
       "      <td>4.0</td>\n",
       "      <td>according to a providence journal article, ama...</td>\n",
       "      <td>4.0</td>\n",
       "    </tr>\n",
       "    <tr>\n",
       "      <th>44012</th>\n",
       "      <td>1700703.0</td>\n",
       "      <td>noelias cheats crocante fleisch zitumbuwa</td>\n",
       "      <td>1.0</td>\n",
       "      <td>30228.0</td>\n",
       "      <td>2007-07-01</td>\n",
       "      <td>6.0</td>\n",
       "      <td>if possible sauté the onions and garlic in abo...</td>\n",
       "      <td>1.0</td>\n",
       "    </tr>\n",
       "    <tr>\n",
       "      <th>44013</th>\n",
       "      <td>1910650.0</td>\n",
       "      <td>rubbed restuffed pelmeni bedouin flavourful</td>\n",
       "      <td>60.0</td>\n",
       "      <td>591905.0</td>\n",
       "      <td>2009-09-26</td>\n",
       "      <td>3.0</td>\n",
       "      <td>another great recipe to add to the growing swe...</td>\n",
       "      <td>2.0</td>\n",
       "    </tr>\n",
       "    <tr>\n",
       "      <th>44014</th>\n",
       "      <td>713836.0</td>\n",
       "      <td>stems polpettine peezi</td>\n",
       "      <td>NaN</td>\n",
       "      <td>357389.0</td>\n",
       "      <td>2003-09-30</td>\n",
       "      <td>4.0</td>\n",
       "      <td>adapted from top secret recipes. love this!</td>\n",
       "      <td>9.0</td>\n",
       "    </tr>\n",
       "    <tr>\n",
       "      <th>44015</th>\n",
       "      <td>660699.0</td>\n",
       "      <td>clementines</td>\n",
       "      <td>64.0</td>\n",
       "      <td>29196.0</td>\n",
       "      <td>1973-06-03</td>\n",
       "      <td>6.0</td>\n",
       "      <td>this would make a great start to your holiday ...</td>\n",
       "      <td>8.0</td>\n",
       "    </tr>\n",
       "  </tbody>\n",
       "</table>\n",
       "</div>"
      ],
      "text/plain": [
       "              id                                         name  minutes  \\\n",
       "44011  1029131.0              tuti waffle snackies steakhouse     19.0   \n",
       "44012  1700703.0    noelias cheats crocante fleisch zitumbuwa      1.0   \n",
       "44013  1910650.0  rubbed restuffed pelmeni bedouin flavourful     60.0   \n",
       "44014   713836.0                       stems polpettine peezi      NaN   \n",
       "44015   660699.0                                  clementines     64.0   \n",
       "\n",
       "       contributor_id  submitted  n_steps  \\\n",
       "44011        171345.0 1973-10-18      4.0   \n",
       "44012         30228.0 2007-07-01      6.0   \n",
       "44013        591905.0 2009-09-26      3.0   \n",
       "44014        357389.0 2003-09-30      4.0   \n",
       "44015         29196.0 1973-06-03      6.0   \n",
       "\n",
       "                                             description  n_ingredients  \n",
       "44011  according to a providence journal article, ama...            4.0  \n",
       "44012  if possible sauté the onions and garlic in abo...            1.0  \n",
       "44013  another great recipe to add to the growing swe...            2.0  \n",
       "44014        adapted from top secret recipes. love this!            9.0  \n",
       "44015  this would make a great start to your holiday ...            8.0  "
      ]
     },
     "execution_count": 75,
     "metadata": {},
     "output_type": "execute_result"
    }
   ],
   "source": [
    "reсipes_full.tail()"
   ]
  },
  {
   "cell_type": "markdown",
   "metadata": {},
   "source": [
    "4. Посчитайте, сколько строк содержит каждый из блоков (partitions)."
   ]
  },
  {
   "cell_type": "code",
   "execution_count": 76,
   "metadata": {},
   "outputs": [
    {
     "data": {
      "text/plain": [
       "0     237505\n",
       "1      41450\n",
       "2     235222\n",
       "3      43733\n",
       "4     238139\n",
       "5      40816\n",
       "6     234750\n",
       "7      44205\n",
       "8     237887\n",
       "9      41068\n",
       "10    234486\n",
       "11     44468\n",
       "12    238298\n",
       "13     40656\n",
       "14    234938\n",
       "15     44016\n",
       "dtype: int64"
      ]
     },
     "execution_count": 76,
     "metadata": {},
     "output_type": "execute_result"
    }
   ],
   "source": [
    "reсipes_full.map_partitions(len).compute()"
   ]
  },
  {
   "cell_type": "markdown",
   "metadata": {},
   "source": [
    "5. Найдите максимум в столбце `n_steps`. Визуализируйте граф вычислений для этой задачи. Прокомментируйте логику работы `dask` при решении данной задачи."
   ]
  },
  {
   "cell_type": "code",
   "execution_count": 77,
   "metadata": {},
   "outputs": [
    {
     "data": {
      "text/plain": [
       "145.0"
      ]
     },
     "execution_count": 77,
     "metadata": {},
     "output_type": "execute_result"
    }
   ],
   "source": [
    "reсipes_full['n_steps'].max().compute()"
   ]
  },
  {
   "cell_type": "code",
   "execution_count": 78,
   "metadata": {},
   "outputs": [],
   "source": [
    "#reсipes_full['n_steps'].map_partitions(max).compute()"
   ]
  },
  {
   "cell_type": "code",
   "execution_count": 79,
   "metadata": {},
   "outputs": [],
   "source": [
    "# mac ne lubit vizualizirovat'"
   ]
  },
  {
   "cell_type": "markdown",
   "metadata": {},
   "source": [
    "6. Посчитайте количество рецептов с группировкой по месяцам добавления отзыва в базу."
   ]
  },
  {
   "cell_type": "code",
   "execution_count": 80,
   "metadata": {},
   "outputs": [
    {
     "data": {
      "text/plain": [
       "submitted\n",
       "1     193363\n",
       "2     173834\n",
       "3     192389\n",
       "4     186049\n",
       "5     192487\n",
       "6     184205\n",
       "7     189337\n",
       "8     187276\n",
       "9     181081\n",
       "10    187018\n",
       "11    180974\n",
       "12    183624\n",
       "Name: id, dtype: int64"
      ]
     },
     "execution_count": 80,
     "metadata": {},
     "output_type": "execute_result"
    }
   ],
   "source": [
    "rec_month_count = reсipes_full.groupby(reсipes_full['submitted'].dt.month).id.count().compute()\n",
    "rec_month_count"
   ]
  },
  {
   "cell_type": "markdown",
   "metadata": {},
   "source": [
    "7. Считайте файлы из архива `reviews_full.zip` (__ЛР12__) в виде `dask.bag`. Пользуясь результатом лабораторной работы 12, рассчитайте среднее значение оценок отзывов с группировкой по месяцам. После завершения всех вычислений преобразуйте результат к `pd.Series`."
   ]
  },
  {
   "cell_type": "code",
   "execution_count": 81,
   "metadata": {},
   "outputs": [
    {
     "data": {
      "text/plain": [
       "({'user_id': 452355,\n",
       "  'recipe_id': 292657,\n",
       "  'date': '2016-05-08',\n",
       "  'review': 'WOW!!! This is the best. I have never been able to make homemade enchiladas that taste like the Mexican restaurants. I made this last night for my family and they said they will never have enchiladas at the Mexican Restaurants again. Thanks for sharing.',\n",
       "  'rating': 0},)"
      ]
     },
     "execution_count": 81,
     "metadata": {},
     "output_type": "execute_result"
    }
   ],
   "source": [
    "import re\n",
    "\n",
    "def add_rating(data):\n",
    "    rev = json.loads(data[0])\n",
    "    rev['rating'] = int(re.findall(r'reviews_(\\d).json', data[1])[0])\n",
    "    return rev\n",
    "    \n",
    "reviews_ = db.read_text('reviews_*.json', include_path = True).map(add_rating)\n",
    "reviews_.take(1)"
   ]
  },
  {
   "cell_type": "code",
   "execution_count": 82,
   "metadata": {},
   "outputs": [
    {
     "data": {
      "text/html": [
       "<div>\n",
       "<style scoped>\n",
       "    .dataframe tbody tr th:only-of-type {\n",
       "        vertical-align: middle;\n",
       "    }\n",
       "\n",
       "    .dataframe tbody tr th {\n",
       "        vertical-align: top;\n",
       "    }\n",
       "\n",
       "    .dataframe thead th {\n",
       "        text-align: right;\n",
       "    }\n",
       "</style>\n",
       "<table border=\"1\" class=\"dataframe\">\n",
       "  <thead>\n",
       "    <tr style=\"text-align: right;\">\n",
       "      <th></th>\n",
       "      <th>user_id</th>\n",
       "      <th>recipe_id</th>\n",
       "      <th>date</th>\n",
       "      <th>review</th>\n",
       "      <th>rating</th>\n",
       "    </tr>\n",
       "  </thead>\n",
       "  <tbody>\n",
       "    <tr>\n",
       "      <th>0</th>\n",
       "      <td>452355</td>\n",
       "      <td>292657</td>\n",
       "      <td>2016-05-08</td>\n",
       "      <td>WOW!!! This is the best. I have never been abl...</td>\n",
       "      <td>0</td>\n",
       "    </tr>\n",
       "    <tr>\n",
       "      <th>1</th>\n",
       "      <td>329304</td>\n",
       "      <td>433404</td>\n",
       "      <td>2006-06-14</td>\n",
       "      <td>This was good but the dressing needed somethin...</td>\n",
       "      <td>0</td>\n",
       "    </tr>\n",
       "    <tr>\n",
       "      <th>2</th>\n",
       "      <td>227932</td>\n",
       "      <td>2008187</td>\n",
       "      <td>1985-11-19</td>\n",
       "      <td>Very good,it was a hit for my family. I used 6...</td>\n",
       "      <td>0</td>\n",
       "    </tr>\n",
       "    <tr>\n",
       "      <th>3</th>\n",
       "      <td>171468</td>\n",
       "      <td>270716</td>\n",
       "      <td>2019-05-21</td>\n",
       "      <td>Made for ZWT-8 Family Picks after I saw these ...</td>\n",
       "      <td>0</td>\n",
       "    </tr>\n",
       "    <tr>\n",
       "      <th>4</th>\n",
       "      <td>91392</td>\n",
       "      <td>1159916</td>\n",
       "      <td>1972-09-18</td>\n",
       "      <td>Very nice slaw. I especially like that it does...</td>\n",
       "      <td>0</td>\n",
       "    </tr>\n",
       "  </tbody>\n",
       "</table>\n",
       "</div>"
      ],
      "text/plain": [
       "   user_id  recipe_id        date  \\\n",
       "0   452355     292657  2016-05-08   \n",
       "1   329304     433404  2006-06-14   \n",
       "2   227932    2008187  1985-11-19   \n",
       "3   171468     270716  2019-05-21   \n",
       "4    91392    1159916  1972-09-18   \n",
       "\n",
       "                                              review  rating  \n",
       "0  WOW!!! This is the best. I have never been abl...       0  \n",
       "1  This was good but the dressing needed somethin...       0  \n",
       "2  Very good,it was a hit for my family. I used 6...       0  \n",
       "3  Made for ZWT-8 Family Picks after I saw these ...       0  \n",
       "4  Very nice slaw. I especially like that it does...       0  "
      ]
     },
     "execution_count": 82,
     "metadata": {},
     "output_type": "execute_result"
    }
   ],
   "source": [
    "reviews_full = reviews_.to_dataframe()\n",
    "reviews_full.head()"
   ]
  },
  {
   "cell_type": "code",
   "execution_count": 83,
   "metadata": {},
   "outputs": [
    {
     "data": {
      "text/plain": [
       "user_id       int64\n",
       "recipe_id     int64\n",
       "date         object\n",
       "review       object\n",
       "rating        int64\n",
       "dtype: object"
      ]
     },
     "execution_count": 83,
     "metadata": {},
     "output_type": "execute_result"
    }
   ],
   "source": [
    "reviews_full.dtypes"
   ]
  },
  {
   "cell_type": "code",
   "execution_count": 84,
   "metadata": {},
   "outputs": [],
   "source": [
    "reviews_full['date'] = dd.to_datetime(reviews_full.date)"
   ]
  },
  {
   "cell_type": "code",
   "execution_count": 85,
   "metadata": {},
   "outputs": [
    {
     "data": {
      "text/plain": [
       "user_id               int64\n",
       "recipe_id             int64\n",
       "date         datetime64[ns]\n",
       "review               object\n",
       "rating                int64\n",
       "dtype: object"
      ]
     },
     "execution_count": 85,
     "metadata": {},
     "output_type": "execute_result"
    }
   ],
   "source": [
    "reviews_full.dtypes"
   ]
  },
  {
   "cell_type": "code",
   "execution_count": 86,
   "metadata": {},
   "outputs": [
    {
     "data": {
      "text/html": [
       "<div>\n",
       "<style scoped>\n",
       "    .dataframe tbody tr th:only-of-type {\n",
       "        vertical-align: middle;\n",
       "    }\n",
       "\n",
       "    .dataframe tbody tr th {\n",
       "        vertical-align: top;\n",
       "    }\n",
       "\n",
       "    .dataframe thead th {\n",
       "        text-align: right;\n",
       "    }\n",
       "</style>\n",
       "<table border=\"1\" class=\"dataframe\">\n",
       "  <thead>\n",
       "    <tr style=\"text-align: right;\">\n",
       "      <th></th>\n",
       "      <th>user_id</th>\n",
       "      <th>recipe_id</th>\n",
       "      <th>date</th>\n",
       "      <th>review</th>\n",
       "      <th>rating</th>\n",
       "    </tr>\n",
       "  </thead>\n",
       "  <tbody>\n",
       "    <tr>\n",
       "      <th>0</th>\n",
       "      <td>452355</td>\n",
       "      <td>292657</td>\n",
       "      <td>2016-05-08</td>\n",
       "      <td>WOW!!! This is the best. I have never been abl...</td>\n",
       "      <td>0</td>\n",
       "    </tr>\n",
       "    <tr>\n",
       "      <th>1</th>\n",
       "      <td>329304</td>\n",
       "      <td>433404</td>\n",
       "      <td>2006-06-14</td>\n",
       "      <td>This was good but the dressing needed somethin...</td>\n",
       "      <td>0</td>\n",
       "    </tr>\n",
       "    <tr>\n",
       "      <th>2</th>\n",
       "      <td>227932</td>\n",
       "      <td>2008187</td>\n",
       "      <td>1985-11-19</td>\n",
       "      <td>Very good,it was a hit for my family. I used 6...</td>\n",
       "      <td>0</td>\n",
       "    </tr>\n",
       "    <tr>\n",
       "      <th>3</th>\n",
       "      <td>171468</td>\n",
       "      <td>270716</td>\n",
       "      <td>2019-05-21</td>\n",
       "      <td>Made for ZWT-8 Family Picks after I saw these ...</td>\n",
       "      <td>0</td>\n",
       "    </tr>\n",
       "    <tr>\n",
       "      <th>4</th>\n",
       "      <td>91392</td>\n",
       "      <td>1159916</td>\n",
       "      <td>1972-09-18</td>\n",
       "      <td>Very nice slaw. I especially like that it does...</td>\n",
       "      <td>0</td>\n",
       "    </tr>\n",
       "  </tbody>\n",
       "</table>\n",
       "</div>"
      ],
      "text/plain": [
       "   user_id  recipe_id       date  \\\n",
       "0   452355     292657 2016-05-08   \n",
       "1   329304     433404 2006-06-14   \n",
       "2   227932    2008187 1985-11-19   \n",
       "3   171468     270716 2019-05-21   \n",
       "4    91392    1159916 1972-09-18   \n",
       "\n",
       "                                              review  rating  \n",
       "0  WOW!!! This is the best. I have never been abl...       0  \n",
       "1  This was good but the dressing needed somethin...       0  \n",
       "2  Very good,it was a hit for my family. I used 6...       0  \n",
       "3  Made for ZWT-8 Family Picks after I saw these ...       0  \n",
       "4  Very nice slaw. I especially like that it does...       0  "
      ]
     },
     "execution_count": 86,
     "metadata": {},
     "output_type": "execute_result"
    }
   ],
   "source": [
    "reviews_full.head()"
   ]
  },
  {
   "cell_type": "code",
   "execution_count": 87,
   "metadata": {},
   "outputs": [
    {
     "data": {
      "text/plain": [
       "date\n",
       "1     4.408553\n",
       "2     4.407135\n",
       "3     4.406911\n",
       "4     4.412259\n",
       "5     4.415401\n",
       "6     4.418419\n",
       "7     4.411717\n",
       "8     4.410822\n",
       "9     4.410661\n",
       "10    4.411452\n",
       "11    4.408829\n",
       "12    4.406908\n",
       "Name: rating, dtype: float64"
      ]
     },
     "execution_count": 87,
     "metadata": {},
     "output_type": "execute_result"
    }
   ],
   "source": [
    "rev_month_mean = reviews_full.groupby(reviews_full['date'].dt.month).rating.mean().compute()\n",
    "rev_month_mean"
   ]
  },
  {
   "cell_type": "markdown",
   "metadata": {},
   "source": [
    "8. Пользуясь результатами решения задач 6 и 7, создайте `pd.DataFrame`, содержащий два столбца: `mean_rating`, `recipes_count`"
   ]
  },
  {
   "cell_type": "code",
   "execution_count": 90,
   "metadata": {},
   "outputs": [
    {
     "data": {
      "text/html": [
       "<div>\n",
       "<style scoped>\n",
       "    .dataframe tbody tr th:only-of-type {\n",
       "        vertical-align: middle;\n",
       "    }\n",
       "\n",
       "    .dataframe tbody tr th {\n",
       "        vertical-align: top;\n",
       "    }\n",
       "\n",
       "    .dataframe thead th {\n",
       "        text-align: right;\n",
       "    }\n",
       "</style>\n",
       "<table border=\"1\" class=\"dataframe\">\n",
       "  <thead>\n",
       "    <tr style=\"text-align: right;\">\n",
       "      <th></th>\n",
       "      <th>rev_month_mean</th>\n",
       "      <th>rec_month_count</th>\n",
       "    </tr>\n",
       "  </thead>\n",
       "  <tbody>\n",
       "    <tr>\n",
       "      <th>1</th>\n",
       "      <td>4.408553</td>\n",
       "      <td>193363</td>\n",
       "    </tr>\n",
       "    <tr>\n",
       "      <th>2</th>\n",
       "      <td>4.407135</td>\n",
       "      <td>173834</td>\n",
       "    </tr>\n",
       "    <tr>\n",
       "      <th>3</th>\n",
       "      <td>4.406911</td>\n",
       "      <td>192389</td>\n",
       "    </tr>\n",
       "    <tr>\n",
       "      <th>4</th>\n",
       "      <td>4.412259</td>\n",
       "      <td>186049</td>\n",
       "    </tr>\n",
       "    <tr>\n",
       "      <th>5</th>\n",
       "      <td>4.415401</td>\n",
       "      <td>192487</td>\n",
       "    </tr>\n",
       "    <tr>\n",
       "      <th>6</th>\n",
       "      <td>4.418419</td>\n",
       "      <td>184205</td>\n",
       "    </tr>\n",
       "    <tr>\n",
       "      <th>7</th>\n",
       "      <td>4.411717</td>\n",
       "      <td>189337</td>\n",
       "    </tr>\n",
       "    <tr>\n",
       "      <th>8</th>\n",
       "      <td>4.410822</td>\n",
       "      <td>187276</td>\n",
       "    </tr>\n",
       "    <tr>\n",
       "      <th>9</th>\n",
       "      <td>4.410661</td>\n",
       "      <td>181081</td>\n",
       "    </tr>\n",
       "    <tr>\n",
       "      <th>10</th>\n",
       "      <td>4.411452</td>\n",
       "      <td>187018</td>\n",
       "    </tr>\n",
       "    <tr>\n",
       "      <th>11</th>\n",
       "      <td>4.408829</td>\n",
       "      <td>180974</td>\n",
       "    </tr>\n",
       "    <tr>\n",
       "      <th>12</th>\n",
       "      <td>4.406908</td>\n",
       "      <td>183624</td>\n",
       "    </tr>\n",
       "  </tbody>\n",
       "</table>\n",
       "</div>"
      ],
      "text/plain": [
       "    rev_month_mean  rec_month_count\n",
       "1         4.408553           193363\n",
       "2         4.407135           173834\n",
       "3         4.406911           192389\n",
       "4         4.412259           186049\n",
       "5         4.415401           192487\n",
       "6         4.418419           184205\n",
       "7         4.411717           189337\n",
       "8         4.410822           187276\n",
       "9         4.410661           181081\n",
       "10        4.411452           187018\n",
       "11        4.408829           180974\n",
       "12        4.406908           183624"
      ]
     },
     "execution_count": 90,
     "metadata": {},
     "output_type": "execute_result"
    }
   ],
   "source": [
    "df8 = pd.DataFrame(dict(rev_month_mean = rev_month_mean, rec_month_count = rec_month_count))\n",
    "df8.rename(columns = {'rev_month_mean' : 'mean_rating', 'rec_month_count' : 'recipes_count'})\n",
    "df8"
   ]
  },
  {
   "cell_type": "code",
   "execution_count": null,
   "metadata": {},
   "outputs": [],
   "source": []
  }
 ],
 "metadata": {
  "kernelspec": {
   "display_name": "Python 3",
   "language": "python",
   "name": "python3"
  },
  "language_info": {
   "codemirror_mode": {
    "name": "ipython",
    "version": 3
   },
   "file_extension": ".py",
   "mimetype": "text/x-python",
   "name": "python",
   "nbconvert_exporter": "python",
   "pygments_lexer": "ipython3",
   "version": "3.8.8"
  }
 },
 "nbformat": 4,
 "nbformat_minor": 4
}
